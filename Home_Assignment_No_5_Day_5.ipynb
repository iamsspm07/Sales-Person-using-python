{
  "nbformat": 4,
  "nbformat_minor": 0,
  "metadata": {
    "colab": {
      "name": "Home_Assignment_No-5_Day-5.ipynb",
      "provenance": [],
      "collapsed_sections": []
    },
    "kernelspec": {
      "name": "python3",
      "display_name": "Python 3"
    },
    "language_info": {
      "name": "python"
    }
  },
  "cells": [
    {
      "cell_type": "markdown",
      "source": [
        "## **Problem 01**\n",
        "\n",
        "### **Sales Person**\n",
        "\n",
        "Suppose you are an owner of a company. You have several salespersons. They buy products from the factories and sell products to people.\n",
        "\n",
        "* Create a class called Salesperson as follows:\n",
        "* Each instance of the Salesperson class will hold the following information: name, record, and value\n",
        "    * The name is a string, which is the salesperson's name.\n",
        "    * The record is a dictionary of products in stock.\n",
        "        - For the record, the key is the item name, and the value is a list with two elements ```[cost, quantity]```.\n",
        "        - Cost is the cost of the item, quantity is the quantity of the item the salespersons have.\n",
        "    * Value is a float number, which is their current profit/loss.\n",
        "\n",
        "**Your task is to implement the following class methods:**\n",
        "\n",
        "1. **```__init__(self, name)```:** the constructor creates a salesperson instance with a given name. After initialization, the record is an empty dictionary and the value is 0.\n",
        "2. **```get_name(self)```:** returns the name of the salesman\n",
        "3. **```buy_pro(self, product_name, market_price, quantity)```:** buy a product, ```(product_name, market_price, quantity)```, to owner's record. You need to update the record and value. If the product is in the record, update the values of ```record[product_name]```; if not, create a new key.\n",
        "4. **```sell_pro(self, product_name, market_price, quantity)```:** sell a product, ```(product_name, market_price, quantity)```, to owner's record. You need to update the record and value. Update the values of ```record[product_name]```. After the update, if the quantity becomes zero, delete the key.\n",
        "5. **```get_record(self)```:** returns the owner's product record.\n",
        "6. **```get_value(self)```:** returns the value in the account."
      ],
      "metadata": {
        "id": "JhfPSczIXEzO"
      }
    },
    {
      "cell_type": "code",
      "source": [
        "class Salesperson:\n",
        "    def __init__(self, name):\n",
        "        self.name = name\n",
        "        self.record = dict()\n",
        "        self.value = 0\n",
        "        self.total_price = []\n",
        "        \n",
        "    def get_name(self):\n",
        "        return self.name\n",
        "\n",
        "    def get_record(self):\n",
        "        return self.record\n",
        "\n",
        "    def get_value(self):\n",
        "        return self.value\n",
        "    \n",
        "    def buy_pro(self, product_name: str, market_price: float, quantity: int):\n",
        "        self.record[product_name] = [market_price, quantity]\n",
        "    \n",
        "    def sell_pro(self, product_name: str, market_price: float, quantity: int):\n",
        "        if self.record[product_name] [1] - quantity == 0:\n",
        "            self.record.pop(product_name)\n",
        "        else:\n",
        "            self.record[product_name] [1] -= quantity\n",
        "        \n",
        "        self.value += (market_price * quantity)\n",
        "    "
      ],
      "metadata": {
        "id": "tnSaHjv8eE2v"
      },
      "execution_count": null,
      "outputs": []
    },
    {
      "cell_type": "code",
      "source": [
        "print(\"Data_Record:-\")\n",
        "print(\"=\" * 11)\n",
        "\n",
        "person_object = Salesperson(\"Sujit Shibaprasad Maity\")\n",
        "print(person_object.get_name())\n",
        "print(\"-\" * 80)\n",
        "person_object.buy_pro(\"Gold\", 53125, 10)\n",
        "person_object.buy_pro(\"Silver\", 540, 10)\n",
        "person_object.buy_pro(\"Copper\", 66, 10)\n",
        "person_object.buy_pro(\"Zinc\", 30, 10)\n",
        "print(person_object.get_record())\n",
        "print(\"-\" * 80)\n",
        "person_object.sell_pro(\"Gold\", 53125, 10)\n",
        "person_object.sell_pro(\"Silver\", 540, 10)\n",
        "person_object.sell_pro(\"Copper\", 66, 10)\n",
        "print(person_object.get_record())\n",
        "print(\"-\" * 80)\n",
        "person_object.sell_pro(\"Zinc\", 30, 10)\n",
        "print(person_object.get_value())\n",
        "print(\"-\" * 80)\n",
        "print(person_object.get_record())\n",
        "print(\"#\" * 80)"
      ],
      "metadata": {
        "colab": {
          "base_uri": "https://localhost:8080/"
        },
        "id": "I6cSxuTEyFdF",
        "outputId": "38ec7d17-beca-4ad3-b6c7-b60bd38d379c"
      },
      "execution_count": null,
      "outputs": [
        {
          "output_type": "stream",
          "name": "stdout",
          "text": [
            "Data_Record:-\n",
            "===========\n",
            "Sujit Shibaprasad Maity\n",
            "--------------------------------------------------------------------------------\n",
            "{'Gold': [53125, 10], 'Silver': [540, 10], 'Copper': [66, 10], 'Zinc': [30, 10]}\n",
            "--------------------------------------------------------------------------------\n",
            "{'Zinc': [30, 10]}\n",
            "--------------------------------------------------------------------------------\n",
            "537610\n",
            "--------------------------------------------------------------------------------\n",
            "{}\n",
            "################################################################################\n"
          ]
        }
      ]
    },
    {
      "cell_type": "markdown",
      "source": [
        "## **Problem 02**\n",
        "\n",
        "### **Student Records**\n",
        "\n",
        "You are given a file records.csv containing the data for few students. Kindly take a look at the file. In this question, you shall write a Python class called Records, which shall have four methods, and two member dictionaries The first dictionary shall be used to store student records, and the second a GPA scale:\n",
        "\n",
        "1. **__init__(self, filename):**\n",
        "This is the constructor method for the class. It should take the filename given as input (e.g. records.csv), and populate the first dictionary as follows:\n",
        "    * the keys of the dictionary should be student names\n",
        "    * the values of the dictionary should be a list, containing Department Year, Course1 grade, Course2 grade,Course3 grade, and Course4 grade. This is the information that appears in the file records.csv for each student. E.g. ```{'Jd': ['CS', 'Fresher', 'C+', 'D+' , 'F', 'D-'], ...}```\n",
        "\n",
        "This method should also populate the second dictionary, a grade-to-numerical value map, whose keys should be the letter grades from A+ to F, and whose values should be the numerical GPA for the letter grade that Purdue has in its grading system, e.g.\n",
        "```python\n",
        "{\n",
        "    'A+': 4.3,\n",
        "    'A': 4.0,\n",
        "    'A-': 3.7,\n",
        "    'B+': 3.3,\n",
        "    'B': 3.0,\n",
        "    'B-': 2.7,\n",
        "    'C+': 2.3,\n",
        "    'C': 2.0,\n",
        "    'C-': 1.7,\n",
        "    'D+': 1.3,\n",
        "    'D': 1.0,\n",
        "    'D-': 0.7,\n",
        "    'F': 0.0\n",
        "}\n",
        "```\n",
        "2. **get_records(self, student):**\n",
        "This methods should take a student name as input, and look up the record of this student in the first dictionary created by the __init__() method. If the student exists in the records, then it should return the student's record which will be a list. If the student does not exist, then it should return a string saying **\"No record for <student> found!\"** (replace **<student>** with its actually string value).\n",
        "3. **insert_record(self, info):** \n",
        "This method should take a list containing a record for a student as input, e g. ```['Jason','Philosophy','Fresher','A','B','C','D']```, and insert it in the first dictionary prepared by the **__init__()** method. So after running this method, there should be a record for student Jason in dictionary, i.e. an entry like ```{..., 'Jason': ['Philosophy','Fresher','A','B','C','D'],...}```\n",
        "4. **compute_gpa(self, student):**\n",
        "This method shall take a student name as input. If the student exists in the first dictionary, then it should use the second dictionary, the grading scales, to compute and return the gpa for this student. Assume that each of the four courses whose grades are recorded are of 4 credit hours. If there is no record for the student passed as input, then the method should return a String saying **\"No record for <student> found!\"**."
      ],
      "metadata": {
        "id": "5sxitGy0eGL2"
      }
    },
    {
      "cell_type": "code",
      "source": [
        "from typing import List\n",
        "from typing import Tuple\n",
        "from typing import Union"
      ],
      "metadata": {
        "id": "sPgntgUWeK9R"
      },
      "execution_count": null,
      "outputs": []
    },
    {
      "cell_type": "code",
      "source": [
        "class Records:\n",
        "    def __init__(self, filename: str):\n",
        "        with open(filename, \"r\") as f:\n",
        "            lines = f.readlines()\n",
        "            self.student_records = dict()\n",
        "            for line in lines[1:]:\n",
        "                record = line.strip(\"\\n\").split(\",\")\n",
        "                self.student_records[record[0]] = record[1:]\n",
        "        self.grade_map = {\n",
        "            'A+': 4.3,\n",
        "            'A': 4.0,\n",
        "            'A-': 3.7,\n",
        "            'B+': 3.3,\n",
        "            'B': 3.0,\n",
        "            'B-': 2.7,\n",
        "            'C+': 2.3,\n",
        "            'C': 2.0,\n",
        "            'C-': 1.7,\n",
        "            'D+': 1.3,\n",
        "            'D': 1.0,\n",
        "            'D-': 0.7,\n",
        "            'F': 0.0\n",
        "        }\n",
        "\n",
        "    def get_record(self, student: str):\n",
        "        if student in self.student_records.keys():\n",
        "            return self.student_records.get(student)\n",
        "        else:\n",
        "            return f\"{student} record not found\"\n",
        "\n",
        "    def insert_record(self, info: List[str]):\n",
        "        new_entry = {info[0] :info[1:]}\n",
        "        self.student_records.update(new_entry)\n",
        "\n",
        "    def calculate_cgpa(self, student: str):\n",
        "        if student in self.student_records.keys():\n",
        "            total = []\n",
        "            credit_hrs = 4\n",
        "            grades = self.student_records.get(student) [2:]\n",
        "            for grade in grades:\n",
        "                total.append(credit_hrs * self.grade_map.get(grade))\n",
        "            total_credit_hrs = 4 * len(grades)\n",
        "            return round(sum(total) / total_credit_hrs, 3)\n",
        "        else:\n",
        "            return f\"{student} record not found\"\n",
        "student_record = Records(\"/content/Students_Records.csv\")\n",
        "record_call = student_record.get_record"
      ],
      "metadata": {
        "id": "4maZOlGoe1iQ"
      },
      "execution_count": null,
      "outputs": []
    },
    {
      "cell_type": "code",
      "source": [
        "print(record_call(\"Chandra\"))\n",
        "print(\"=\" * 50)\n",
        "print(record_call(\"Prakesh\"))\n",
        "print(\"=\" * 50)\n",
        "print(record_call(\"Gayathri\"))\n",
        "print(\"=\" * 50)\n",
        "print(record_call(\"Sujit s Maity\"))\n",
        "print(\"=\" * 50)\n",
        "print(record_call(\"Saurabh\"))\n",
        "print(\"=\" * 50)\n",
        "print(record_call(\"Kartik\"))\n",
        "print(\"=\" * 50)\n",
        "print(record_call(\"Bhagyalakshmi\"))\n",
        "print(\"=\" * 50)\n",
        "print(record_call(\"sai\"))\n",
        "print(\"=\" * 50)\n",
        "print(record_call(\"Abhishek\"))\n",
        "print(\"=\" * 50)\n",
        "print(record_call(\"Ram\"))\n",
        "print(\"=\" * 50)\n",
        "print(record_call(\"Saif\"))\n"
      ],
      "metadata": {
        "colab": {
          "base_uri": "https://localhost:8080/"
        },
        "id": "SS94IoxeldEd",
        "outputId": "bf775b83-c625-45ce-e291-e6a88e948170"
      },
      "execution_count": null,
      "outputs": [
        {
          "output_type": "stream",
          "name": "stdout",
          "text": [
            "['CompE', 'CEO', 'A+', 'A+', 'A+', 'A++']\n",
            "==================================================\n",
            "['ChemE', 'Fresher', 'B+', 'C', 'B+', 'C+']\n",
            "==================================================\n",
            "['CS', 'Senior', 'D', 'D', 'A-', 'B-']\n",
            "==================================================\n",
            "['CompE', 'Fresher', 'A+', 'A', 'A', 'A+']\n",
            "==================================================\n",
            "['ME', 'Fresher', 'A-', 'A-', 'A', 'D-']\n",
            "==================================================\n",
            "['Biology', 'Junior', 'D-', 'C+', 'D+', 'D+']\n",
            "==================================================\n",
            "['CompE', 'Graduate', 'D', 'D', 'A-', 'C+']\n",
            "==================================================\n",
            "['Statistics', 'Fresher', 'F', 'A', 'F', 'D+']\n",
            "==================================================\n",
            "['Physics', 'Graduate', 'B', 'B-', 'A+', 'C']\n",
            "==================================================\n",
            "['CS', 'Fresher', 'C+', 'D+', 'F', 'D-']\n",
            "==================================================\n",
            "Saif record not found\n"
          ]
        }
      ]
    },
    {
      "cell_type": "code",
      "source": [
        "# Prakesh #Saurabh #Kartik #Abhishek #Sai #Bhagyalakshmi # Gayathri #Ram"
      ],
      "metadata": {
        "id": "BoC3sZVCoEYU"
      },
      "execution_count": null,
      "outputs": []
    }
  ]
}